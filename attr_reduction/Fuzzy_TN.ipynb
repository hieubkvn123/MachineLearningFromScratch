{
 "cells": [
  {
   "cell_type": "code",
   "execution_count": 1,
   "metadata": {
    "ExecuteTime": {
     "end_time": "2021-05-08T13:31:13.368001Z",
     "start_time": "2021-05-08T13:31:12.576029Z"
    }
   },
   "outputs": [],
   "source": [
    "import time\n",
    "import numpy as np\n",
    "import pandas as pd\n",
    "from sklearn import svm\n",
    "from sklearn.preprocessing import normalize\n",
    "from sklearn.model_selection import train_test_split"
   ]
  },
  {
   "cell_type": "code",
   "execution_count": 2,
   "metadata": {
    "ExecuteTime": {
     "end_time": "2021-05-08T13:31:13.373037Z",
     "start_time": "2021-05-08T13:31:13.370584Z"
    }
   },
   "outputs": [],
   "source": [
    "# Thiết lập tham số\n",
    "path_file = \"./heart.csv\"\n",
    "distance_result = 0.5"
   ]
  },
  {
   "cell_type": "code",
   "execution_count": 3,
   "metadata": {
    "ExecuteTime": {
     "end_time": "2021-05-08T13:31:13.379092Z",
     "start_time": "2021-05-08T13:31:13.375752Z"
    }
   },
   "outputs": [],
   "source": [
    "def read_file(path):\n",
    "    # read file\n",
    "    #csv = np.genfromtxt(path, delimiter=\",\")\n",
    "    #csv = csv[1:,1:]\n",
    "    data = pd.read_csv(path).as_matrix()\n",
    "    data[data == \"b\"] = 1\n",
    "    data[data == \"a\"] = 0\n",
    "    data = data[0:,1:]\n",
    "    return data"
   ]
  },
  {
   "cell_type": "code",
   "execution_count": 4,
   "metadata": {
    "ExecuteTime": {
     "end_time": "2021-05-08T13:31:13.397691Z",
     "start_time": "2021-05-08T13:31:13.382081Z"
    },
    "scrolled": true
   },
   "outputs": [
    {
     "name": "stderr",
     "output_type": "stream",
     "text": [
      "/Users/admin/.conda/envs/tensorflow/lib/python3.6/site-packages/ipykernel_launcher.py:5: FutureWarning: Method .as_matrix will be removed in a future version. Use .values instead.\n",
      "  \"\"\"\n"
     ]
    },
    {
     "data": {
      "text/plain": [
       "array([[70, 1, 4, ..., 3, 3, 1],\n",
       "       [67, 0, 3, ..., 0, 7, 0],\n",
       "       [57, 1, 2, ..., 0, 7, 1],\n",
       "       ...,\n",
       "       [56, 0, 2, ..., 0, 3, 0],\n",
       "       [57, 1, 4, ..., 0, 6, 0],\n",
       "       [67, 1, 4, ..., 3, 3, 1]], dtype=object)"
      ]
     },
     "execution_count": 4,
     "metadata": {},
     "output_type": "execute_result"
    }
   ],
   "source": [
    "csv = read_file(path_file)\n",
    "csv"
   ]
  },
  {
   "cell_type": "code",
   "execution_count": 5,
   "metadata": {
    "ExecuteTime": {
     "end_time": "2021-05-08T13:31:13.402895Z",
     "start_time": "2021-05-08T13:31:13.399651Z"
    }
   },
   "outputs": [],
   "source": [
    "# Chuẩn hóa min-max trong khoảng tùy chọn\n",
    "# Chú ý chuẩn hóa theo từng cột để ứng với từng thuộc tính\n",
    "def scale(X, x_min, x_max):\n",
    "    nom = (X-X.min(axis=0))*(x_max-x_min)\n",
    "    denom = X.max(axis=0) - X.min(axis=0)\n",
    "    denom[denom==0] = 1\n",
    "    return x_min + nom/denom "
   ]
  },
  {
   "cell_type": "code",
   "execution_count": 6,
   "metadata": {
    "ExecuteTime": {
     "end_time": "2021-05-08T13:31:13.407556Z",
     "start_time": "2021-05-08T13:31:13.404697Z"
    }
   },
   "outputs": [],
   "source": [
    "csv = scale(csv, 0, 1)"
   ]
  },
  {
   "cell_type": "code",
   "execution_count": 7,
   "metadata": {
    "ExecuteTime": {
     "end_time": "2021-05-08T13:31:13.411786Z",
     "start_time": "2021-05-08T13:31:13.409173Z"
    }
   },
   "outputs": [],
   "source": [
    "# Trả về các vector thuộc tính\n",
    "def matrix_atribute(csv):\n",
    "    m_atribute = csv[:,:].T\n",
    "    m_d = csv[:,-1]\n",
    "    return m_atribute, m_d"
   ]
  },
  {
   "cell_type": "code",
   "execution_count": 8,
   "metadata": {
    "ExecuteTime": {
     "end_time": "2021-05-08T13:31:13.417656Z",
     "start_time": "2021-05-08T13:31:13.415800Z"
    }
   },
   "outputs": [],
   "source": [
    "# Thuc thi\n",
    "m_atribute, m_d = matrix_atribute(csv)"
   ]
  },
  {
   "cell_type": "code",
   "execution_count": 9,
   "metadata": {
    "ExecuteTime": {
     "end_time": "2021-05-08T13:31:13.426582Z",
     "start_time": "2021-05-08T13:31:13.421362Z"
    }
   },
   "outputs": [
    {
     "data": {
      "text/plain": [
       "array([[0.8541666666666666, 0.7916666666666666, 0.5833333333333334, ...,\n",
       "        0.5625, 0.5833333333333334, 0.7916666666666666],\n",
       "       [1.0, 0.0, 1.0, ..., 0.0, 1.0, 1.0],\n",
       "       [1.0, 0.6666666666666666, 0.3333333333333333, ...,\n",
       "        0.3333333333333333, 1.0, 1.0],\n",
       "       ...,\n",
       "       [1.0, 0.0, 0.0, ..., 0.0, 0.0, 1.0],\n",
       "       [0.0, 1.0, 1.0, ..., 0.0, 0.75, 0.0],\n",
       "       [1.0, 0.0, 1.0, ..., 0.0, 0.0, 1.0]], dtype=object)"
      ]
     },
     "execution_count": 9,
     "metadata": {},
     "output_type": "execute_result"
    }
   ],
   "source": [
    "m_atribute"
   ]
  },
  {
   "cell_type": "code",
   "execution_count": 10,
   "metadata": {
    "ExecuteTime": {
     "end_time": "2021-05-08T13:31:13.432355Z",
     "start_time": "2021-05-08T13:31:13.428803Z"
    }
   },
   "outputs": [
    {
     "data": {
      "text/plain": [
       "(14, 270)"
      ]
     },
     "execution_count": 10,
     "metadata": {},
     "output_type": "execute_result"
    }
   ],
   "source": [
    "m_atribute.shape"
   ]
  },
  {
   "cell_type": "code",
   "execution_count": 11,
   "metadata": {
    "ExecuteTime": {
     "end_time": "2021-05-08T13:31:13.436663Z",
     "start_time": "2021-05-08T13:31:13.434228Z"
    }
   },
   "outputs": [],
   "source": [
    "def member(x,y):\n",
    "    return round(1.0-abs(x - y),2)"
   ]
  },
  {
   "cell_type": "code",
   "execution_count": 12,
   "metadata": {
    "ExecuteTime": {
     "end_time": "2021-05-08T13:31:13.442433Z",
     "start_time": "2021-05-08T13:31:13.438597Z"
    }
   },
   "outputs": [],
   "source": [
    "def f_relation_matrix(arr_c):\n",
    "    matrix_0 = np.zeros((len(arr_c), len(arr_c)), dtype=np.float32)\n",
    "    for i in range(len(arr_c)):\n",
    "        for j in range(len(arr_c)):\n",
    "            matrix_0[i][j] = member(arr_c[i], arr_c[j])\n",
    "    return matrix_0"
   ]
  },
  {
   "cell_type": "code",
   "execution_count": 13,
   "metadata": {
    "ExecuteTime": {
     "end_time": "2021-05-08T13:31:13.447282Z",
     "start_time": "2021-05-08T13:31:13.444135Z"
    }
   },
   "outputs": [],
   "source": [
    "def f_matrix_relation_atribute(f_m_atribute):\n",
    "    f_matrix_relation_atribute = []\n",
    "    for i in range(f_m_atribute.shape[0]):\n",
    "        f_mra = f_relation_matrix(m_atribute[i])\n",
    "        f_matrix_relation_atribute.append(f_mra)\n",
    "    f_matrix_relation_atribute = np.array(f_matrix_relation_atribute)\n",
    "    return f_matrix_relation_atribute"
   ]
  },
  {
   "cell_type": "code",
   "execution_count": 14,
   "metadata": {
    "ExecuteTime": {
     "end_time": "2021-05-08T13:31:14.483754Z",
     "start_time": "2021-05-08T13:31:13.449412Z"
    },
    "scrolled": true
   },
   "outputs": [
    {
     "data": {
      "text/plain": [
       "(14, 270, 270)"
      ]
     },
     "execution_count": 14,
     "metadata": {},
     "output_type": "execute_result"
    }
   ],
   "source": [
    "f_matrix_relation_atribute = f_matrix_relation_atribute(m_atribute)\n",
    "f_matrix_relation_atribute.shape"
   ]
  },
  {
   "cell_type": "code",
   "execution_count": 15,
   "metadata": {
    "ExecuteTime": {
     "end_time": "2021-05-08T13:31:14.489893Z",
     "start_time": "2021-05-08T13:31:14.485915Z"
    }
   },
   "outputs": [],
   "source": [
    "def f_matrix_intersect_relation(m1, m2):\n",
    "    f_matrix_intersect_relation = np.zeros_like(m1)\n",
    "    for i in range(len(f_matrix_intersect_relation[0])):\n",
    "        for j in range(len(f_matrix_intersect_relation[0])):\n",
    "            if m1[i][j] < m2[i][j]:\n",
    "                f_matrix_intersect_relation[i][j] = m1[i][j]\n",
    "            else:\n",
    "                f_matrix_intersect_relation[i][j] = m2[i][j]\n",
    "    return f_matrix_intersect_relation"
   ]
  },
  {
   "cell_type": "code",
   "execution_count": 16,
   "metadata": {
    "ExecuteTime": {
     "end_time": "2021-05-08T13:31:14.495471Z",
     "start_time": "2021-05-08T13:31:14.491996Z"
    }
   },
   "outputs": [],
   "source": [
    "# cal c1 in d, c2 in d, cn in d of fuzzy\n",
    "def f_matrix_intersect_d(f_mra):\n",
    "    f_matrix_intersect_d = []\n",
    "    for i in range(f_mra.shape[0]):\n",
    "        mtg = f_matrix_intersect_relation(f_mra[i],f_mra[-1])\n",
    "        f_matrix_intersect_d.append(mtg)\n",
    "    f_matrix_intersect_d = np.array(f_matrix_intersect_d)\n",
    "    return f_matrix_intersect_d"
   ]
  },
  {
   "cell_type": "code",
   "execution_count": 17,
   "metadata": {
    "ExecuteTime": {
     "end_time": "2021-05-08T13:31:15.663093Z",
     "start_time": "2021-05-08T13:31:14.497341Z"
    },
    "scrolled": false
   },
   "outputs": [
    {
     "data": {
      "text/plain": [
       "(14, 270, 270)"
      ]
     },
     "execution_count": 17,
     "metadata": {},
     "output_type": "execute_result"
    }
   ],
   "source": [
    "f_matrix_intersect_d = f_matrix_intersect_d(f_matrix_relation_atribute)\n",
    "f_matrix_intersect_d.shape"
   ]
  },
  {
   "cell_type": "code",
   "execution_count": 18,
   "metadata": {
    "ExecuteTime": {
     "end_time": "2021-05-08T13:31:15.670576Z",
     "start_time": "2021-05-08T13:31:15.665199Z"
    }
   },
   "outputs": [],
   "source": [
    "def cal_lamda(m_atribute):\n",
    "    print(m_atribute.shape)\n",
    "    ts = []\n",
    "    #lamda = []\n",
    "    #mab = m_atribute[:-1,:]\n",
    "    #print(mab.shape)\n",
    "    # ddof for N-1\n",
    "    xm = np.std(m_atribute, axis=1, ddof=1, dtype=np.float32)\n",
    "    \n",
    "    cl = 0\n",
    "    for a in f_matrix_intersect_d:\n",
    "        for b in a:\n",
    "            cl += np.sum(b)\n",
    "        ts.append(cl)\n",
    "    ms = 0\n",
    "    for v in f_matrix_relation_atribute[-1]:\n",
    "        ms += np.sum(v)\n",
    "    ts = np.array(ts)\n",
    "    vector_beta = ts / ms\n",
    "    print(xm.shape)\n",
    "    print(vector_beta.shape)\n",
    "    lamda = [1 if xm[i] == 0 else vector_beta[i]/xm[i] for i in range(len(xm))]\n",
    "    lamda = np.array(lamda)\n",
    "    return lamda"
   ]
  },
  {
   "cell_type": "code",
   "execution_count": 19,
   "metadata": {
    "ExecuteTime": {
     "end_time": "2021-05-08T13:31:15.700501Z",
     "start_time": "2021-05-08T13:31:15.672388Z"
    }
   },
   "outputs": [
    {
     "name": "stdout",
     "output_type": "stream",
     "text": [
      "(14, 270)\n",
      "(14,)\n",
      "(14,)\n"
     ]
    },
    {
     "data": {
      "text/plain": [
       "array([ 4.16396503,  2.94832984,  6.61763232, 17.29197626, 32.10971311,\n",
       "       12.74459805, 10.12488322, 33.2205901 , 13.85101438, 39.81825244,\n",
       "       26.30208264, 28.08050912, 19.54414647, 21.05578232])"
      ]
     },
     "execution_count": 19,
     "metadata": {},
     "output_type": "execute_result"
    }
   ],
   "source": [
    "lamda = cal_lamda(m_atribute)\n",
    "lamda"
   ]
  },
  {
   "cell_type": "code",
   "execution_count": 20,
   "metadata": {
    "ExecuteTime": {
     "end_time": "2021-05-08T13:31:15.706052Z",
     "start_time": "2021-05-08T13:31:15.702738Z"
    }
   },
   "outputs": [],
   "source": [
    "def non_member(m, el_lam):\n",
    "    lamda = 1.0\n",
    "    return round((1.0 - m)/(1.0 + el_lam * m),2)"
   ]
  },
  {
   "cell_type": "code",
   "execution_count": 21,
   "metadata": {
    "ExecuteTime": {
     "end_time": "2021-05-08T13:31:15.712054Z",
     "start_time": "2021-05-08T13:31:15.708235Z"
    }
   },
   "outputs": [],
   "source": [
    "def if_relation_matrix(arr_c, el_lam):\n",
    "    if_relation_matrix = np.zeros((len(arr_c), len(arr_c)), dtype=\"f,f\")\n",
    "    for i in range(len(arr_c)):\n",
    "        for j in range(len(arr_c)):\n",
    "            if_relation_matrix[i][j][0] = member(arr_c[i], arr_c[j])\n",
    "            if_relation_matrix[i][j][1] = non_member(if_relation_matrix[i][j][0], el_lam)\n",
    "    return if_relation_matrix"
   ]
  },
  {
   "cell_type": "code",
   "execution_count": 22,
   "metadata": {
    "ExecuteTime": {
     "end_time": "2021-05-08T13:31:15.717273Z",
     "start_time": "2021-05-08T13:31:15.713710Z"
    }
   },
   "outputs": [],
   "source": [
    "# Tinh toan ma tran quan he theo tung atribute cua IF\n",
    "def if_matrix_relation_atribute(m_atribute, lamda):\n",
    "    if_matrix_relation_atribute = []\n",
    "    for i in range(m_atribute.shape[0]):\n",
    "        mra = if_relation_matrix(m_atribute[i], lamda[i])\n",
    "        if_matrix_relation_atribute.append(mra)\n",
    "    if_matrix_relation_atribute = np.array(if_matrix_relation_atribute)\n",
    "    return if_matrix_relation_atribute"
   ]
  },
  {
   "cell_type": "code",
   "execution_count": 23,
   "metadata": {
    "ExecuteTime": {
     "end_time": "2021-05-08T13:31:26.976410Z",
     "start_time": "2021-05-08T13:31:15.722622Z"
    },
    "scrolled": false
   },
   "outputs": [
    {
     "data": {
      "text/plain": [
       "(14, 270, 270)"
      ]
     },
     "execution_count": 23,
     "metadata": {},
     "output_type": "execute_result"
    }
   ],
   "source": [
    "if_matrix_relation_atribute = if_matrix_relation_atribute(m_atribute, lamda)\n",
    "if_matrix_relation_atribute.shape"
   ]
  },
  {
   "cell_type": "code",
   "execution_count": 24,
   "metadata": {
    "ExecuteTime": {
     "end_time": "2021-05-08T13:31:26.983077Z",
     "start_time": "2021-05-08T13:31:26.979024Z"
    }
   },
   "outputs": [],
   "source": [
    "def if_matrix_intersect_relation(m1, m2):\n",
    "    matrix_init = np.zeros_like(m1)\n",
    "    for i in range(len(m1[0])):\n",
    "        for j in range(len(m1[0])):\n",
    "            if m1[i][j][0] < m2[i][j][0]:\n",
    "                matrix_init[i][j] = m1[i][j]\n",
    "            else:\n",
    "                matrix_init[i][j] = m2[i][j]\n",
    "    return matrix_init"
   ]
  },
  {
   "cell_type": "code",
   "execution_count": 25,
   "metadata": {
    "ExecuteTime": {
     "end_time": "2021-05-08T13:31:26.987990Z",
     "start_time": "2021-05-08T13:31:26.984891Z"
    }
   },
   "outputs": [],
   "source": [
    "# cal c1 in d, c2 in d, cn in d\n",
    "def if_matrix_intersect_d(mra):\n",
    "    if_matrix_intersect_d = []\n",
    "    for i in range(mra.shape[0]):\n",
    "        mtg = if_matrix_intersect_relation(mra[i],mra[-1])\n",
    "        if_matrix_intersect_d.append(mtg)\n",
    "    return if_matrix_intersect_d[:-1]"
   ]
  },
  {
   "cell_type": "code",
   "execution_count": 26,
   "metadata": {
    "ExecuteTime": {
     "end_time": "2021-05-08T13:31:29.476012Z",
     "start_time": "2021-05-08T13:31:26.989759Z"
    }
   },
   "outputs": [
    {
     "data": {
      "text/plain": [
       "[array([[(1.  , 0.  ), (0.  , 1.  ), (0.73, 0.07), ..., (0.  , 1.  ),\n",
       "         (0.  , 1.  ), (0.94, 0.01)],\n",
       "        [(0.  , 1.  ), (1.  , 0.  ), (0.  , 1.  ), ..., (0.77, 0.05),\n",
       "         (0.79, 0.05), (0.  , 1.  )],\n",
       "        [(0.73, 0.07), (0.  , 1.  ), (1.  , 0.  ), ..., (0.  , 1.  ),\n",
       "         (0.  , 1.  ), (0.79, 0.05)],\n",
       "        ...,\n",
       "        [(0.  , 1.  ), (0.77, 0.05), (0.  , 1.  ), ..., (1.  , 0.  ),\n",
       "         (0.98, 0.  ), (0.  , 1.  )],\n",
       "        [(0.  , 1.  ), (0.79, 0.05), (0.  , 1.  ), ..., (0.98, 0.  ),\n",
       "         (1.  , 0.  ), (0.  , 1.  )],\n",
       "        [(0.94, 0.01), (0.  , 1.  ), (0.79, 0.05), ..., (0.  , 1.  ),\n",
       "         (0.  , 1.  ), (1.  , 0.  )]], dtype=[('f0', '<f4'), ('f1', '<f4')]),\n",
       " array([[(1., 0.), (0., 1.), (1., 0.), ..., (0., 1.), (0., 1.), (1., 0.)],\n",
       "        [(0., 1.), (1., 0.), (0., 1.), ..., (1., 0.), (0., 1.), (0., 1.)],\n",
       "        [(1., 0.), (0., 1.), (1., 0.), ..., (0., 1.), (0., 1.), (1., 0.)],\n",
       "        ...,\n",
       "        [(0., 1.), (1., 0.), (0., 1.), ..., (1., 0.), (0., 1.), (0., 1.)],\n",
       "        [(0., 1.), (0., 1.), (0., 1.), ..., (0., 1.), (1., 0.), (0., 1.)],\n",
       "        [(1., 0.), (0., 1.), (1., 0.), ..., (0., 1.), (0., 1.), (1., 0.)]],\n",
       "       dtype=[('f0', '<f4'), ('f1', '<f4')]),\n",
       " array([[(1.  , 0.  ), (0.  , 1.  ), (0.33, 0.21), ..., (0.  , 1.  ),\n",
       "         (0.  , 1.  ), (1.  , 0.  )],\n",
       "        [(0.  , 1.  ), (1.  , 0.  ), (0.  , 1.  ), ..., (0.67, 0.06),\n",
       "         (0.67, 0.06), (0.  , 1.  )],\n",
       "        [(0.33, 0.21), (0.  , 1.  ), (1.  , 0.  ), ..., (0.  , 1.  ),\n",
       "         (0.  , 1.  ), (0.33, 0.21)],\n",
       "        ...,\n",
       "        [(0.  , 1.  ), (0.67, 0.06), (0.  , 1.  ), ..., (1.  , 0.  ),\n",
       "         (0.33, 0.21), (0.  , 1.  )],\n",
       "        [(0.  , 1.  ), (0.67, 0.06), (0.  , 1.  ), ..., (0.33, 0.21),\n",
       "         (1.  , 0.  ), (0.  , 1.  )],\n",
       "        [(1.  , 0.  ), (0.  , 1.  ), (0.33, 0.21), ..., (0.  , 1.  ),\n",
       "         (0.  , 1.  ), (1.  , 0.  )]], dtype=[('f0', '<f4'), ('f1', '<f4')]),\n",
       " array([[(1.  , 0.  ), (0.  , 1.  ), (0.94, 0.  ), ..., (0.  , 1.  ),\n",
       "         (0.  , 1.  ), (0.72, 0.02)],\n",
       "        [(0.  , 1.  ), (1.  , 0.  ), (0.  , 1.  ), ..., (0.76, 0.02),\n",
       "         (0.76, 0.02), (0.  , 1.  )],\n",
       "        [(0.94, 0.  ), (0.  , 1.  ), (1.  , 0.  ), ..., (0.  , 1.  ),\n",
       "         (0.  , 1.  ), (0.66, 0.03)],\n",
       "        ...,\n",
       "        [(0.  , 1.  ), (0.76, 0.02), (0.  , 1.  ), ..., (1.  , 0.  ),\n",
       "         (1.  , 0.  ), (0.  , 1.  )],\n",
       "        [(0.  , 1.  ), (0.76, 0.02), (0.  , 1.  ), ..., (1.  , 0.  ),\n",
       "         (1.  , 0.  ), (0.  , 1.  )],\n",
       "        [(0.72, 0.02), (0.  , 1.  ), (0.66, 0.03), ..., (0.  , 1.  ),\n",
       "         (0.  , 1.  ), (1.  , 0.  )]], dtype=[('f0', '<f4'), ('f1', '<f4')]),\n",
       " array([[(1.  , 0.  ), (0.  , 1.  ), (0.86, 0.  ), ..., (0.  , 1.  ),\n",
       "         (0.  , 1.  ), (0.92, 0.  )],\n",
       "        [(0.  , 1.  ), (1.  , 0.  ), (0.  , 1.  ), ..., (0.38, 0.05),\n",
       "         (0.15, 0.15), (0.  , 1.  )],\n",
       "        [(0.86, 0.  ), (0.  , 1.  ), (1.  , 0.  ), ..., (0.  , 1.  ),\n",
       "         (0.  , 1.  ), (0.94, 0.  )],\n",
       "        ...,\n",
       "        [(0.  , 1.  ), (0.38, 0.05), (0.  , 1.  ), ..., (1.  , 0.  ),\n",
       "         (0.77, 0.01), (0.  , 1.  )],\n",
       "        [(0.  , 1.  ), (0.15, 0.15), (0.  , 1.  ), ..., (0.77, 0.01),\n",
       "         (1.  , 0.  ), (0.  , 1.  )],\n",
       "        [(0.92, 0.  ), (0.  , 1.  ), (0.94, 0.  ), ..., (0.  , 1.  ),\n",
       "         (0.  , 1.  ), (1.  , 0.  )]], dtype=[('f0', '<f4'), ('f1', '<f4')]),\n",
       " array([[(1., 0.), (0., 1.), (1., 0.), ..., (0., 1.), (0., 1.), (1., 0.)],\n",
       "        [(0., 1.), (1., 0.), (0., 1.), ..., (1., 0.), (1., 0.), (0., 1.)],\n",
       "        [(1., 0.), (0., 1.), (1., 0.), ..., (0., 1.), (0., 1.), (1., 0.)],\n",
       "        ...,\n",
       "        [(0., 1.), (1., 0.), (0., 1.), ..., (1., 0.), (1., 0.), (0., 1.)],\n",
       "        [(0., 1.), (1., 0.), (0., 1.), ..., (1., 0.), (1., 0.), (0., 1.)],\n",
       "        [(1., 0.), (0., 1.), (1., 0.), ..., (0., 1.), (0., 1.), (1., 0.)]],\n",
       "       dtype=[('f0', '<f4'), ('f1', '<f4')]),\n",
       " array([[(1., 0.), (0., 1.), (0., 1.), ..., (0., 1.), (0., 1.), (1., 0.)],\n",
       "        [(0., 1.), (1., 0.), (0., 1.), ..., (1., 0.), (0., 1.), (0., 1.)],\n",
       "        [(0., 1.), (0., 1.), (1., 0.), ..., (0., 1.), (0., 1.), (0., 1.)],\n",
       "        ...,\n",
       "        [(0., 1.), (1., 0.), (0., 1.), ..., (1., 0.), (0., 1.), (0., 1.)],\n",
       "        [(0., 1.), (0., 1.), (0., 1.), ..., (0., 1.), (1., 0.), (0., 1.)],\n",
       "        [(1., 0.), (0., 1.), (0., 1.), ..., (0., 1.), (0., 1.), (1., 0.)]],\n",
       "       dtype=[('f0', '<f4'), ('f1', '<f4')]),\n",
       " array([[(1.  , 0.  ), (0.  , 1.  ), (0.76, 0.01), ..., (0.  , 1.  ),\n",
       "         (0.  , 1.  ), (0.99, 0.  )],\n",
       "        [(0.  , 1.  ), (1.  , 0.  ), (0.  , 1.  ), ..., (0.95, 0.  ),\n",
       "         (0.91, 0.  ), (0.  , 1.  )],\n",
       "        [(0.76, 0.01), (0.  , 1.  ), (1.  , 0.  ), ..., (0.  , 1.  ),\n",
       "         (0.  , 1.  ), (0.75, 0.01)],\n",
       "        ...,\n",
       "        [(0.  , 1.  ), (0.95, 0.  ), (0.  , 1.  ), ..., (1.  , 0.  ),\n",
       "         (0.96, 0.  ), (0.  , 1.  )],\n",
       "        [(0.  , 1.  ), (0.91, 0.  ), (0.  , 1.  ), ..., (0.96, 0.  ),\n",
       "         (1.  , 0.  ), (0.  , 1.  )],\n",
       "        [(0.99, 0.  ), (0.  , 1.  ), (0.75, 0.01), ..., (0.  , 1.  ),\n",
       "         (0.  , 1.  ), (1.  , 0.  )]], dtype=[('f0', '<f4'), ('f1', '<f4')]),\n",
       " array([[(1., 0.), (0., 1.), (1., 0.), ..., (0., 1.), (0., 1.), (0., 1.)],\n",
       "        [(0., 1.), (1., 0.), (0., 1.), ..., (1., 0.), (1., 0.), (0., 1.)],\n",
       "        [(1., 0.), (0., 1.), (1., 0.), ..., (0., 1.), (0., 1.), (0., 1.)],\n",
       "        ...,\n",
       "        [(0., 1.), (1., 0.), (0., 1.), ..., (1., 0.), (1., 0.), (0., 1.)],\n",
       "        [(0., 1.), (1., 0.), (0., 1.), ..., (1., 0.), (1., 0.), (0., 1.)],\n",
       "        [(0., 1.), (0., 1.), (0., 1.), ..., (0., 1.), (0., 1.), (1., 0.)]],\n",
       "       dtype=[('f0', '<f4'), ('f1', '<f4')]),\n",
       " array([[(1.  , 0.  ), (0.  , 1.  ), (0.66, 0.01), ..., (0.  , 1.  ),\n",
       "         (0.  , 1.  ), (0.85, 0.  )],\n",
       "        [(0.  , 1.  ), (1.  , 0.  ), (0.  , 1.  ), ..., (0.95, 0.  ),\n",
       "         (0.81, 0.01), (0.  , 1.  )],\n",
       "        [(0.66, 0.01), (0.  , 1.  ), (1.  , 0.  ), ..., (0.  , 1.  ),\n",
       "         (0.  , 1.  ), (0.81, 0.01)],\n",
       "        ...,\n",
       "        [(0.  , 1.  ), (0.95, 0.  ), (0.  , 1.  ), ..., (1.  , 0.  ),\n",
       "         (0.85, 0.  ), (0.  , 1.  )],\n",
       "        [(0.  , 1.  ), (0.81, 0.01), (0.  , 1.  ), ..., (0.85, 0.  ),\n",
       "         (1.  , 0.  ), (0.  , 1.  )],\n",
       "        [(0.85, 0.  ), (0.  , 1.  ), (0.81, 0.01), ..., (0.  , 1.  ),\n",
       "         (0.  , 1.  ), (1.  , 0.  )]], dtype=[('f0', '<f4'), ('f1', '<f4')]),\n",
       " array([[(1. , 0.  ), (0. , 1.  ), (0.5, 0.04), ..., (0. , 1.  ),\n",
       "         (0. , 1.  ), (1. , 0.  )],\n",
       "        [(0. , 1.  ), (1. , 0.  ), (0. , 1.  ), ..., (1. , 0.  ),\n",
       "         (1. , 0.  ), (0. , 1.  )],\n",
       "        [(0.5, 0.04), (0. , 1.  ), (1. , 0.  ), ..., (0. , 1.  ),\n",
       "         (0. , 1.  ), (0.5, 0.04)],\n",
       "        ...,\n",
       "        [(0. , 1.  ), (1. , 0.  ), (0. , 1.  ), ..., (1. , 0.  ),\n",
       "         (1. , 0.  ), (0. , 1.  )],\n",
       "        [(0. , 1.  ), (1. , 0.  ), (0. , 1.  ), ..., (1. , 0.  ),\n",
       "         (1. , 0.  ), (0. , 1.  )],\n",
       "        [(1. , 0.  ), (0. , 1.  ), (0.5, 0.04), ..., (0. , 1.  ),\n",
       "         (0. , 1.  ), (1. , 0.  )]], dtype=[('f0', '<f4'), ('f1', '<f4')]),\n",
       " array([[(1., 0.), (0., 1.), (0., 1.), ..., (0., 1.), (0., 1.), (1., 0.)],\n",
       "        [(0., 1.), (1., 0.), (0., 1.), ..., (1., 0.), (1., 0.), (0., 1.)],\n",
       "        [(0., 1.), (0., 1.), (1., 0.), ..., (0., 1.), (0., 1.), (0., 1.)],\n",
       "        ...,\n",
       "        [(0., 1.), (1., 0.), (0., 1.), ..., (1., 0.), (1., 0.), (0., 1.)],\n",
       "        [(0., 1.), (1., 0.), (0., 1.), ..., (1., 0.), (1., 0.), (0., 1.)],\n",
       "        [(1., 0.), (0., 1.), (0., 1.), ..., (0., 1.), (0., 1.), (1., 0.)]],\n",
       "       dtype=[('f0', '<f4'), ('f1', '<f4')]),\n",
       " array([[(1.  , 0.  ), (0.  , 1.  ), (0.  , 1.  ), ..., (0.  , 1.  ),\n",
       "         (0.  , 1.  ), (1.  , 0.  )],\n",
       "        [(0.  , 1.  ), (1.  , 0.  ), (0.  , 1.  ), ..., (0.  , 1.  ),\n",
       "         (0.75, 0.02), (0.  , 1.  )],\n",
       "        [(0.  , 1.  ), (0.  , 1.  ), (1.  , 0.  ), ..., (0.  , 1.  ),\n",
       "         (0.  , 1.  ), (0.  , 1.  )],\n",
       "        ...,\n",
       "        [(0.  , 1.  ), (0.  , 1.  ), (0.  , 1.  ), ..., (1.  , 0.  ),\n",
       "         (0.25, 0.13), (0.  , 1.  )],\n",
       "        [(0.  , 1.  ), (0.75, 0.02), (0.  , 1.  ), ..., (0.25, 0.13),\n",
       "         (1.  , 0.  ), (0.  , 1.  )],\n",
       "        [(1.  , 0.  ), (0.  , 1.  ), (0.  , 1.  ), ..., (0.  , 1.  ),\n",
       "         (0.  , 1.  ), (1.  , 0.  )]], dtype=[('f0', '<f4'), ('f1', '<f4')])]"
      ]
     },
     "execution_count": 26,
     "metadata": {},
     "output_type": "execute_result"
    }
   ],
   "source": [
    "if_matrix_intersect_d = if_matrix_intersect_d(if_matrix_relation_atribute)\n",
    "if_matrix_intersect_d"
   ]
  },
  {
   "cell_type": "code",
   "execution_count": 27,
   "metadata": {
    "ExecuteTime": {
     "end_time": "2021-05-08T13:31:29.481250Z",
     "start_time": "2021-05-08T13:31:29.478016Z"
    }
   },
   "outputs": [],
   "source": [
    "# cal C \n",
    "def if_matrix_atribute_C(mra):\n",
    "    if_matrix_multi_atribute_intersect = []\n",
    "    for i in range(mra.shape[0] - 1):\n",
    "        matrix_2 = if_matrix_intersect_relation(mra[i], mra[i+1])\n",
    "        if_matrix_multi_atribute_intersect.append(matrix_2)\n",
    "    if_matrix_atribute_C = np.array(if_matrix_multi_atribute_intersect)[-2]\n",
    "    return if_matrix_atribute_C"
   ]
  },
  {
   "cell_type": "code",
   "execution_count": 28,
   "metadata": {
    "ExecuteTime": {
     "end_time": "2021-05-08T13:31:31.814025Z",
     "start_time": "2021-05-08T13:31:29.483249Z"
    }
   },
   "outputs": [
    {
     "data": {
      "text/plain": [
       "(270, 270)"
      ]
     },
     "execution_count": 28,
     "metadata": {},
     "output_type": "execute_result"
    }
   ],
   "source": [
    "if_matrix_atribute_C = if_matrix_atribute_C(if_matrix_relation_atribute)\n",
    "if_matrix_atribute_C.shape"
   ]
  },
  {
   "cell_type": "code",
   "execution_count": 29,
   "metadata": {
    "ExecuteTime": {
     "end_time": "2021-05-08T13:31:31.818747Z",
     "start_time": "2021-05-08T13:31:31.815976Z"
    }
   },
   "outputs": [],
   "source": [
    "def cal_len(arr):\n",
    "    return np.round(float(np.sum([(1+e[0]-e[1])/2 for e in arr])),2)"
   ]
  },
  {
   "cell_type": "code",
   "execution_count": 30,
   "metadata": {
    "ExecuteTime": {
     "end_time": "2021-05-08T13:31:31.823880Z",
     "start_time": "2021-05-08T13:31:31.820555Z"
    }
   },
   "outputs": [],
   "source": [
    "def distance_measure(A,d):\n",
    "    tg = if_matrix_intersect_relation(A,d)\n",
    "    g = [round(cal_len(A[i])-cal_len(tg[i]),3) for i in range(len(A[0]))]\n",
    "    return round(1/(len(A[0]) * len(A[0])) * np.sum(g),2)"
   ]
  },
  {
   "cell_type": "code",
   "execution_count": 31,
   "metadata": {
    "ExecuteTime": {
     "end_time": "2021-05-08T13:31:31.828920Z",
     "start_time": "2021-05-08T13:31:31.825815Z"
    }
   },
   "outputs": [],
   "source": [
    "def matrix_distance_measure(mra):\n",
    "    vector_distance_measure = []\n",
    "    for i in range(mra.shape[0]):\n",
    "        dis = distance_measure(mra[i], mra[-1])\n",
    "        vector_distance_measure.append(dis)\n",
    "    vector_distance_measure = np.array(vector_distance_measure)\n",
    "    return vector_distance_measure"
   ]
  },
  {
   "cell_type": "code",
   "execution_count": 32,
   "metadata": {
    "ExecuteTime": {
     "end_time": "2021-05-08T13:31:43.024586Z",
     "start_time": "2021-05-08T13:31:31.830820Z"
    }
   },
   "outputs": [
    {
     "data": {
      "text/plain": [
       "array([0.42, 0.26, 0.36, 0.44, 0.46, 0.37, 0.24, 0.44, 0.23, 0.44, 0.38,\n",
       "       0.37, 0.2 , 0.  ])"
      ]
     },
     "execution_count": 32,
     "metadata": {},
     "output_type": "execute_result"
    }
   ],
   "source": [
    "matrix_distance_measure = matrix_distance_measure(if_matrix_relation_atribute)\n",
    "matrix_distance_measure"
   ]
  },
  {
   "cell_type": "code",
   "execution_count": 33,
   "metadata": {
    "ExecuteTime": {
     "end_time": "2021-05-08T13:31:43.833553Z",
     "start_time": "2021-05-08T13:31:43.026441Z"
    }
   },
   "outputs": [
    {
     "data": {
      "text/plain": [
       "0.15"
      ]
     },
     "execution_count": 33,
     "metadata": {},
     "output_type": "execute_result"
    }
   ],
   "source": [
    "distance_measure_C = distance_measure(if_matrix_atribute_C, if_matrix_relation_atribute[-1])\n",
    "distance_measure_C"
   ]
  },
  {
   "cell_type": "code",
   "execution_count": 34,
   "metadata": {
    "ExecuteTime": {
     "end_time": "2021-05-08T13:31:43.839141Z",
     "start_time": "2021-05-08T13:31:43.835519Z"
    }
   },
   "outputs": [
    {
     "data": {
      "text/plain": [
       "12"
      ]
     },
     "execution_count": 34,
     "metadata": {},
     "output_type": "execute_result"
    }
   ],
   "source": [
    "index = np.where(matrix_distance_measure[:-1] == min(matrix_distance_measure[:-1]))[0][0]\n",
    "index"
   ]
  },
  {
   "cell_type": "code",
   "execution_count": 35,
   "metadata": {
    "ExecuteTime": {
     "end_time": "2021-05-08T13:31:43.848043Z",
     "start_time": "2021-05-08T13:31:43.840992Z"
    }
   },
   "outputs": [],
   "source": [
    "def filter_step(distance_measure_C,matrix_distance_measure):\n",
    "    C = [i for i in range(0,if_matrix_relation_atribute.shape[0] - 1)]\n",
    "    d = 0.5\n",
    "    step = 1\n",
    "    W = []\n",
    "    B = []\n",
    "    ind = np.where(matrix_distance_measure[:-1] == min(matrix_distance_measure[:-1]))[0][0]\n",
    "    B.append(ind)\n",
    "    W.append(B)\n",
    "    C.remove(ind)\n",
    "    print(f\"Step {step} W = \", W)\n",
    "    print(f\"d = \", d)\n",
    "    mtg = if_matrix_relation_atribute[index]\n",
    "    while d > distance_measure_C:\n",
    "        step +=1\n",
    "        tg = dict()\n",
    "        for i in C:\n",
    "            ints = if_matrix_intersect_relation(mtg, if_matrix_relation_atribute[i])     \n",
    "            tg[i] = ints\n",
    "        distance = [distance_measure(tg[x], if_matrix_relation_atribute[-1]) for x in tg.keys()]\n",
    "\n",
    "        d = np.min(distance)\n",
    "        ind = C[np.argmin(distance)]\n",
    "        mtg = tg[ind]\n",
    "        B = B[:] + [ind]\n",
    "        W.append(B)\n",
    "        print(f\"Step {step} W = \", W)\n",
    "        print(f\"d = \", d)\n",
    "    return W"
   ]
  },
  {
   "cell_type": "code",
   "execution_count": null,
   "metadata": {
    "ExecuteTime": {
     "start_time": "2021-05-08T13:31:12.617Z"
    },
    "scrolled": false
   },
   "outputs": [
    {
     "name": "stdout",
     "output_type": "stream",
     "text": [
      "Step 1 W =  [[12]]\n",
      "d =  0.5\n"
     ]
    }
   ],
   "source": [
    "h = filter_step(distance_measure_C,matrix_distance_measure)"
   ]
  },
  {
   "cell_type": "code",
   "execution_count": null,
   "metadata": {},
   "outputs": [],
   "source": []
  }
 ],
 "metadata": {
  "kernelspec": {
   "display_name": "Python 3",
   "language": "python",
   "name": "python3"
  },
  "language_info": {
   "codemirror_mode": {
    "name": "ipython",
    "version": 3
   },
   "file_extension": ".py",
   "mimetype": "text/x-python",
   "name": "python",
   "nbconvert_exporter": "python",
   "pygments_lexer": "ipython3",
   "version": "3.8.5"
  }
 },
 "nbformat": 4,
 "nbformat_minor": 2
}
